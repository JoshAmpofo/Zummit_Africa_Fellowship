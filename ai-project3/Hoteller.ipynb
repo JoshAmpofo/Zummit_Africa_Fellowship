{
  "nbformat": 4,
  "nbformat_minor": 0,
  "metadata": {
    "colab": {
      "provenance": [],
      "authorship_tag": "ABX9TyPKgOl7Q4+tfFppsqznGC+c",
      "include_colab_link": true
    },
    "kernelspec": {
      "name": "python3",
      "display_name": "Python 3"
    },
    "language_info": {
      "name": "python"
    }
  },
  "cells": [
    {
      "cell_type": "markdown",
      "metadata": {
        "id": "view-in-github",
        "colab_type": "text"
      },
      "source": [
        "<a href=\"https://colab.research.google.com/github/JoshAmpofo/Zummit_Africa_Fellowship/blob/main/Hoteller.ipynb\" target=\"_parent\"><img src=\"https://colab.research.google.com/assets/colab-badge.svg\" alt=\"Open In Colab\"/></a>"
      ]
    },
    {
      "cell_type": "markdown",
      "source": [
        "#**HOTEL RECOMMENDATION SYSTEM**"
      ],
      "metadata": {
        "id": "bffTHBcwlyG9"
      }
    },
    {
      "cell_type": "code",
      "execution_count": 1,
      "metadata": {
        "id": "gO5o2NFTlRb4"
      },
      "outputs": [],
      "source": [
        "# import libraries\n",
        "import pandas as pd\n",
        "import numpy as np\n",
        "import matplotlib.pyplot as plt\n",
        "%matplotlib inline\n",
        "import seaborn as sns"
      ]
    },
    {
      "cell_type": "code",
      "source": [
        "# load datasets\n",
        "from google.colab import drive\n",
        "drive.mount('/content/drive/')"
      ],
      "metadata": {
        "colab": {
          "base_uri": "https://localhost:8080/"
        },
        "id": "IuYzdQ8tmKKV",
        "outputId": "9e9916cd-bc1d-4856-975a-5013c3f11a2d"
      },
      "execution_count": 2,
      "outputs": [
        {
          "output_type": "stream",
          "name": "stdout",
          "text": [
            "Drive already mounted at /content/drive/; to attempt to forcibly remount, call drive.mount(\"/content/drive/\", force_remount=True).\n"
          ]
        }
      ]
    },
    {
      "cell_type": "code",
      "source": [
        "df1 = pd.read_csv('/content/drive/My Drive/Zummit_Datasets/7282_1.csv')\n",
        "df219 = pd.read_csv('/content/drive/My Drive/Zummit_Datasets/Datafiniti_Hotel_Reviews_Jun19.csv')\n",
        "#dfrev = pd.read_csv('/content/drive/My Drive/Zummit_Datasets/Datafiniti_Hotel_Reviews.csv')"
      ],
      "metadata": {
        "id": "G7doyBzjmSwM"
      },
      "execution_count": 3,
      "outputs": []
    },
    {
      "cell_type": "code",
      "source": [
        "df1.head()"
      ],
      "metadata": {
        "colab": {
          "base_uri": "https://localhost:8080/",
          "height": 486
        },
        "id": "NNhzTRJwnr15",
        "outputId": "3ed51038-7f8e-4af6-8903-928fbfa2287e"
      },
      "execution_count": 4,
      "outputs": [
        {
          "output_type": "execute_result",
          "data": {
            "text/plain": [
              "                  address categories      city country   latitude  longitude  \\\n",
              "0  Riviera San Nicol 11/a     Hotels  Mableton      US  45.421611  12.376187   \n",
              "1  Riviera San Nicol 11/a     Hotels  Mableton      US  45.421611  12.376187   \n",
              "2  Riviera San Nicol 11/a     Hotels  Mableton      US  45.421611  12.376187   \n",
              "3  Riviera San Nicol 11/a     Hotels  Mableton      US  45.421611  12.376187   \n",
              "4  Riviera San Nicol 11/a     Hotels  Mableton      US  45.421611  12.376187   \n",
              "\n",
              "                 name postalCode province          reviews.date  \\\n",
              "0  Hotel Russo Palace      30126       GA  2013-09-22T00:00:00Z   \n",
              "1  Hotel Russo Palace      30126       GA  2015-04-03T00:00:00Z   \n",
              "2  Hotel Russo Palace      30126       GA  2014-05-13T00:00:00Z   \n",
              "3  Hotel Russo Palace      30126       GA  2013-10-27T00:00:00Z   \n",
              "4  Hotel Russo Palace      30126       GA  2015-03-05T00:00:00Z   \n",
              "\n",
              "      reviews.dateAdded  reviews.doRecommend  reviews.id  reviews.rating  \\\n",
              "0  2016-10-24T00:00:25Z                  NaN         NaN             4.0   \n",
              "1  2016-10-24T00:00:25Z                  NaN         NaN             5.0   \n",
              "2  2016-10-24T00:00:25Z                  NaN         NaN             5.0   \n",
              "3  2016-10-24T00:00:25Z                  NaN         NaN             5.0   \n",
              "4  2016-10-24T00:00:25Z                  NaN         NaN             5.0   \n",
              "\n",
              "                                        reviews.text  \\\n",
              "0  Pleasant 10 min walk along the sea front to th...   \n",
              "1  Really lovely hotel. Stayed on the very top fl...   \n",
              "2  Ett mycket bra hotell. Det som drog ner betyge...   \n",
              "3  We stayed here for four nights in October. The...   \n",
              "4  We stayed here for four nights in October. The...   \n",
              "\n",
              "                        reviews.title reviews.userCity reviews.username  \\\n",
              "0  Good location away from the crouds              NaN      Russ (kent)   \n",
              "1      Great hotel with Jacuzzi bath!              NaN       A Traveler   \n",
              "2                         Lugnt l��ge              NaN             Maud   \n",
              "3          Good location on the Lido.              NaN            Julie   \n",
              "4              ������ ���������������              NaN         sungchul   \n",
              "\n",
              "  reviews.userProvince  \n",
              "0                  NaN  \n",
              "1                  NaN  \n",
              "2                  NaN  \n",
              "3                  NaN  \n",
              "4                  NaN  "
            ],
            "text/html": [
              "\n",
              "  <div id=\"df-1aadcb78-e941-419b-93cf-752f658c2464\" class=\"colab-df-container\">\n",
              "    <div>\n",
              "<style scoped>\n",
              "    .dataframe tbody tr th:only-of-type {\n",
              "        vertical-align: middle;\n",
              "    }\n",
              "\n",
              "    .dataframe tbody tr th {\n",
              "        vertical-align: top;\n",
              "    }\n",
              "\n",
              "    .dataframe thead th {\n",
              "        text-align: right;\n",
              "    }\n",
              "</style>\n",
              "<table border=\"1\" class=\"dataframe\">\n",
              "  <thead>\n",
              "    <tr style=\"text-align: right;\">\n",
              "      <th></th>\n",
              "      <th>address</th>\n",
              "      <th>categories</th>\n",
              "      <th>city</th>\n",
              "      <th>country</th>\n",
              "      <th>latitude</th>\n",
              "      <th>longitude</th>\n",
              "      <th>name</th>\n",
              "      <th>postalCode</th>\n",
              "      <th>province</th>\n",
              "      <th>reviews.date</th>\n",
              "      <th>reviews.dateAdded</th>\n",
              "      <th>reviews.doRecommend</th>\n",
              "      <th>reviews.id</th>\n",
              "      <th>reviews.rating</th>\n",
              "      <th>reviews.text</th>\n",
              "      <th>reviews.title</th>\n",
              "      <th>reviews.userCity</th>\n",
              "      <th>reviews.username</th>\n",
              "      <th>reviews.userProvince</th>\n",
              "    </tr>\n",
              "  </thead>\n",
              "  <tbody>\n",
              "    <tr>\n",
              "      <th>0</th>\n",
              "      <td>Riviera San Nicol 11/a</td>\n",
              "      <td>Hotels</td>\n",
              "      <td>Mableton</td>\n",
              "      <td>US</td>\n",
              "      <td>45.421611</td>\n",
              "      <td>12.376187</td>\n",
              "      <td>Hotel Russo Palace</td>\n",
              "      <td>30126</td>\n",
              "      <td>GA</td>\n",
              "      <td>2013-09-22T00:00:00Z</td>\n",
              "      <td>2016-10-24T00:00:25Z</td>\n",
              "      <td>NaN</td>\n",
              "      <td>NaN</td>\n",
              "      <td>4.0</td>\n",
              "      <td>Pleasant 10 min walk along the sea front to th...</td>\n",
              "      <td>Good location away from the crouds</td>\n",
              "      <td>NaN</td>\n",
              "      <td>Russ (kent)</td>\n",
              "      <td>NaN</td>\n",
              "    </tr>\n",
              "    <tr>\n",
              "      <th>1</th>\n",
              "      <td>Riviera San Nicol 11/a</td>\n",
              "      <td>Hotels</td>\n",
              "      <td>Mableton</td>\n",
              "      <td>US</td>\n",
              "      <td>45.421611</td>\n",
              "      <td>12.376187</td>\n",
              "      <td>Hotel Russo Palace</td>\n",
              "      <td>30126</td>\n",
              "      <td>GA</td>\n",
              "      <td>2015-04-03T00:00:00Z</td>\n",
              "      <td>2016-10-24T00:00:25Z</td>\n",
              "      <td>NaN</td>\n",
              "      <td>NaN</td>\n",
              "      <td>5.0</td>\n",
              "      <td>Really lovely hotel. Stayed on the very top fl...</td>\n",
              "      <td>Great hotel with Jacuzzi bath!</td>\n",
              "      <td>NaN</td>\n",
              "      <td>A Traveler</td>\n",
              "      <td>NaN</td>\n",
              "    </tr>\n",
              "    <tr>\n",
              "      <th>2</th>\n",
              "      <td>Riviera San Nicol 11/a</td>\n",
              "      <td>Hotels</td>\n",
              "      <td>Mableton</td>\n",
              "      <td>US</td>\n",
              "      <td>45.421611</td>\n",
              "      <td>12.376187</td>\n",
              "      <td>Hotel Russo Palace</td>\n",
              "      <td>30126</td>\n",
              "      <td>GA</td>\n",
              "      <td>2014-05-13T00:00:00Z</td>\n",
              "      <td>2016-10-24T00:00:25Z</td>\n",
              "      <td>NaN</td>\n",
              "      <td>NaN</td>\n",
              "      <td>5.0</td>\n",
              "      <td>Ett mycket bra hotell. Det som drog ner betyge...</td>\n",
              "      <td>Lugnt l��ge</td>\n",
              "      <td>NaN</td>\n",
              "      <td>Maud</td>\n",
              "      <td>NaN</td>\n",
              "    </tr>\n",
              "    <tr>\n",
              "      <th>3</th>\n",
              "      <td>Riviera San Nicol 11/a</td>\n",
              "      <td>Hotels</td>\n",
              "      <td>Mableton</td>\n",
              "      <td>US</td>\n",
              "      <td>45.421611</td>\n",
              "      <td>12.376187</td>\n",
              "      <td>Hotel Russo Palace</td>\n",
              "      <td>30126</td>\n",
              "      <td>GA</td>\n",
              "      <td>2013-10-27T00:00:00Z</td>\n",
              "      <td>2016-10-24T00:00:25Z</td>\n",
              "      <td>NaN</td>\n",
              "      <td>NaN</td>\n",
              "      <td>5.0</td>\n",
              "      <td>We stayed here for four nights in October. The...</td>\n",
              "      <td>Good location on the Lido.</td>\n",
              "      <td>NaN</td>\n",
              "      <td>Julie</td>\n",
              "      <td>NaN</td>\n",
              "    </tr>\n",
              "    <tr>\n",
              "      <th>4</th>\n",
              "      <td>Riviera San Nicol 11/a</td>\n",
              "      <td>Hotels</td>\n",
              "      <td>Mableton</td>\n",
              "      <td>US</td>\n",
              "      <td>45.421611</td>\n",
              "      <td>12.376187</td>\n",
              "      <td>Hotel Russo Palace</td>\n",
              "      <td>30126</td>\n",
              "      <td>GA</td>\n",
              "      <td>2015-03-05T00:00:00Z</td>\n",
              "      <td>2016-10-24T00:00:25Z</td>\n",
              "      <td>NaN</td>\n",
              "      <td>NaN</td>\n",
              "      <td>5.0</td>\n",
              "      <td>We stayed here for four nights in October. The...</td>\n",
              "      <td>������ ���������������</td>\n",
              "      <td>NaN</td>\n",
              "      <td>sungchul</td>\n",
              "      <td>NaN</td>\n",
              "    </tr>\n",
              "  </tbody>\n",
              "</table>\n",
              "</div>\n",
              "    <div class=\"colab-df-buttons\">\n",
              "\n",
              "  <div class=\"colab-df-container\">\n",
              "    <button class=\"colab-df-convert\" onclick=\"convertToInteractive('df-1aadcb78-e941-419b-93cf-752f658c2464')\"\n",
              "            title=\"Convert this dataframe to an interactive table.\"\n",
              "            style=\"display:none;\">\n",
              "\n",
              "  <svg xmlns=\"http://www.w3.org/2000/svg\" height=\"24px\" viewBox=\"0 -960 960 960\">\n",
              "    <path d=\"M120-120v-720h720v720H120Zm60-500h600v-160H180v160Zm220 220h160v-160H400v160Zm0 220h160v-160H400v160ZM180-400h160v-160H180v160Zm440 0h160v-160H620v160ZM180-180h160v-160H180v160Zm440 0h160v-160H620v160Z\"/>\n",
              "  </svg>\n",
              "    </button>\n",
              "\n",
              "  <style>\n",
              "    .colab-df-container {\n",
              "      display:flex;\n",
              "      gap: 12px;\n",
              "    }\n",
              "\n",
              "    .colab-df-convert {\n",
              "      background-color: #E8F0FE;\n",
              "      border: none;\n",
              "      border-radius: 50%;\n",
              "      cursor: pointer;\n",
              "      display: none;\n",
              "      fill: #1967D2;\n",
              "      height: 32px;\n",
              "      padding: 0 0 0 0;\n",
              "      width: 32px;\n",
              "    }\n",
              "\n",
              "    .colab-df-convert:hover {\n",
              "      background-color: #E2EBFA;\n",
              "      box-shadow: 0px 1px 2px rgba(60, 64, 67, 0.3), 0px 1px 3px 1px rgba(60, 64, 67, 0.15);\n",
              "      fill: #174EA6;\n",
              "    }\n",
              "\n",
              "    .colab-df-buttons div {\n",
              "      margin-bottom: 4px;\n",
              "    }\n",
              "\n",
              "    [theme=dark] .colab-df-convert {\n",
              "      background-color: #3B4455;\n",
              "      fill: #D2E3FC;\n",
              "    }\n",
              "\n",
              "    [theme=dark] .colab-df-convert:hover {\n",
              "      background-color: #434B5C;\n",
              "      box-shadow: 0px 1px 3px 1px rgba(0, 0, 0, 0.15);\n",
              "      filter: drop-shadow(0px 1px 2px rgba(0, 0, 0, 0.3));\n",
              "      fill: #FFFFFF;\n",
              "    }\n",
              "  </style>\n",
              "\n",
              "    <script>\n",
              "      const buttonEl =\n",
              "        document.querySelector('#df-1aadcb78-e941-419b-93cf-752f658c2464 button.colab-df-convert');\n",
              "      buttonEl.style.display =\n",
              "        google.colab.kernel.accessAllowed ? 'block' : 'none';\n",
              "\n",
              "      async function convertToInteractive(key) {\n",
              "        const element = document.querySelector('#df-1aadcb78-e941-419b-93cf-752f658c2464');\n",
              "        const dataTable =\n",
              "          await google.colab.kernel.invokeFunction('convertToInteractive',\n",
              "                                                    [key], {});\n",
              "        if (!dataTable) return;\n",
              "\n",
              "        const docLinkHtml = 'Like what you see? Visit the ' +\n",
              "          '<a target=\"_blank\" href=https://colab.research.google.com/notebooks/data_table.ipynb>data table notebook</a>'\n",
              "          + ' to learn more about interactive tables.';\n",
              "        element.innerHTML = '';\n",
              "        dataTable['output_type'] = 'display_data';\n",
              "        await google.colab.output.renderOutput(dataTable, element);\n",
              "        const docLink = document.createElement('div');\n",
              "        docLink.innerHTML = docLinkHtml;\n",
              "        element.appendChild(docLink);\n",
              "      }\n",
              "    </script>\n",
              "  </div>\n",
              "\n",
              "\n",
              "<div id=\"df-82bb7642-2239-46e6-8b85-493cf8227a22\">\n",
              "  <button class=\"colab-df-quickchart\" onclick=\"quickchart('df-82bb7642-2239-46e6-8b85-493cf8227a22')\"\n",
              "            title=\"Suggest charts\"\n",
              "            style=\"display:none;\">\n",
              "\n",
              "<svg xmlns=\"http://www.w3.org/2000/svg\" height=\"24px\"viewBox=\"0 0 24 24\"\n",
              "     width=\"24px\">\n",
              "    <g>\n",
              "        <path d=\"M19 3H5c-1.1 0-2 .9-2 2v14c0 1.1.9 2 2 2h14c1.1 0 2-.9 2-2V5c0-1.1-.9-2-2-2zM9 17H7v-7h2v7zm4 0h-2V7h2v10zm4 0h-2v-4h2v4z\"/>\n",
              "    </g>\n",
              "</svg>\n",
              "  </button>\n",
              "\n",
              "<style>\n",
              "  .colab-df-quickchart {\n",
              "      --bg-color: #E8F0FE;\n",
              "      --fill-color: #1967D2;\n",
              "      --hover-bg-color: #E2EBFA;\n",
              "      --hover-fill-color: #174EA6;\n",
              "      --disabled-fill-color: #AAA;\n",
              "      --disabled-bg-color: #DDD;\n",
              "  }\n",
              "\n",
              "  [theme=dark] .colab-df-quickchart {\n",
              "      --bg-color: #3B4455;\n",
              "      --fill-color: #D2E3FC;\n",
              "      --hover-bg-color: #434B5C;\n",
              "      --hover-fill-color: #FFFFFF;\n",
              "      --disabled-bg-color: #3B4455;\n",
              "      --disabled-fill-color: #666;\n",
              "  }\n",
              "\n",
              "  .colab-df-quickchart {\n",
              "    background-color: var(--bg-color);\n",
              "    border: none;\n",
              "    border-radius: 50%;\n",
              "    cursor: pointer;\n",
              "    display: none;\n",
              "    fill: var(--fill-color);\n",
              "    height: 32px;\n",
              "    padding: 0;\n",
              "    width: 32px;\n",
              "  }\n",
              "\n",
              "  .colab-df-quickchart:hover {\n",
              "    background-color: var(--hover-bg-color);\n",
              "    box-shadow: 0 1px 2px rgba(60, 64, 67, 0.3), 0 1px 3px 1px rgba(60, 64, 67, 0.15);\n",
              "    fill: var(--button-hover-fill-color);\n",
              "  }\n",
              "\n",
              "  .colab-df-quickchart-complete:disabled,\n",
              "  .colab-df-quickchart-complete:disabled:hover {\n",
              "    background-color: var(--disabled-bg-color);\n",
              "    fill: var(--disabled-fill-color);\n",
              "    box-shadow: none;\n",
              "  }\n",
              "\n",
              "  .colab-df-spinner {\n",
              "    border: 2px solid var(--fill-color);\n",
              "    border-color: transparent;\n",
              "    border-bottom-color: var(--fill-color);\n",
              "    animation:\n",
              "      spin 1s steps(1) infinite;\n",
              "  }\n",
              "\n",
              "  @keyframes spin {\n",
              "    0% {\n",
              "      border-color: transparent;\n",
              "      border-bottom-color: var(--fill-color);\n",
              "      border-left-color: var(--fill-color);\n",
              "    }\n",
              "    20% {\n",
              "      border-color: transparent;\n",
              "      border-left-color: var(--fill-color);\n",
              "      border-top-color: var(--fill-color);\n",
              "    }\n",
              "    30% {\n",
              "      border-color: transparent;\n",
              "      border-left-color: var(--fill-color);\n",
              "      border-top-color: var(--fill-color);\n",
              "      border-right-color: var(--fill-color);\n",
              "    }\n",
              "    40% {\n",
              "      border-color: transparent;\n",
              "      border-right-color: var(--fill-color);\n",
              "      border-top-color: var(--fill-color);\n",
              "    }\n",
              "    60% {\n",
              "      border-color: transparent;\n",
              "      border-right-color: var(--fill-color);\n",
              "    }\n",
              "    80% {\n",
              "      border-color: transparent;\n",
              "      border-right-color: var(--fill-color);\n",
              "      border-bottom-color: var(--fill-color);\n",
              "    }\n",
              "    90% {\n",
              "      border-color: transparent;\n",
              "      border-bottom-color: var(--fill-color);\n",
              "    }\n",
              "  }\n",
              "</style>\n",
              "\n",
              "  <script>\n",
              "    async function quickchart(key) {\n",
              "      const quickchartButtonEl =\n",
              "        document.querySelector('#' + key + ' button');\n",
              "      quickchartButtonEl.disabled = true;  // To prevent multiple clicks.\n",
              "      quickchartButtonEl.classList.add('colab-df-spinner');\n",
              "      try {\n",
              "        const charts = await google.colab.kernel.invokeFunction(\n",
              "            'suggestCharts', [key], {});\n",
              "      } catch (error) {\n",
              "        console.error('Error during call to suggestCharts:', error);\n",
              "      }\n",
              "      quickchartButtonEl.classList.remove('colab-df-spinner');\n",
              "      quickchartButtonEl.classList.add('colab-df-quickchart-complete');\n",
              "    }\n",
              "    (() => {\n",
              "      let quickchartButtonEl =\n",
              "        document.querySelector('#df-82bb7642-2239-46e6-8b85-493cf8227a22 button');\n",
              "      quickchartButtonEl.style.display =\n",
              "        google.colab.kernel.accessAllowed ? 'block' : 'none';\n",
              "    })();\n",
              "  </script>\n",
              "</div>\n",
              "\n",
              "    </div>\n",
              "  </div>\n"
            ],
            "application/vnd.google.colaboratory.intrinsic+json": {
              "type": "dataframe",
              "variable_name": "df1",
              "summary": "{\n  \"name\": \"df1\",\n  \"rows\": 35912,\n  \"fields\": [\n    {\n      \"column\": \"address\",\n      \"properties\": {\n        \"dtype\": \"category\",\n        \"num_unique_values\": 999,\n        \"samples\": [\n          \"1312 Beaverton Valley Rd\",\n          \"2185 W Hanford Rd\",\n          \"28622 Highway 11\"\n        ],\n        \"semantic_type\": \"\",\n        \"description\": \"\"\n      }\n    },\n    {\n      \"column\": \"categories\",\n      \"properties\": {\n        \"dtype\": \"category\",\n        \"num_unique_values\": 396,\n        \"samples\": [\n          \"Hotels & Motels,Lodging\",\n          \"Bed & Breakfast & Inns,Lodging,Resorts,Hotels,Caterers,Motels\",\n          \"Hotels,Attorneys,Mediation Services,Lodging\"\n        ],\n        \"semantic_type\": \"\",\n        \"description\": \"\"\n      }\n    },\n    {\n      \"column\": \"city\",\n      \"properties\": {\n        \"dtype\": \"category\",\n        \"num_unique_values\": 761,\n        \"samples\": [\n          \"Mishawaka\",\n          \"San Francisco\",\n          \"Buena Park\"\n        ],\n        \"semantic_type\": \"\",\n        \"description\": \"\"\n      }\n    },\n    {\n      \"column\": \"country\",\n      \"properties\": {\n        \"dtype\": \"category\",\n        \"num_unique_values\": 1,\n        \"samples\": [\n          \"US\"\n        ],\n        \"semantic_type\": \"\",\n        \"description\": \"\"\n      }\n    },\n    {\n      \"column\": \"latitude\",\n      \"properties\": {\n        \"dtype\": \"number\",\n        \"std\": 6.996544349076818,\n        \"min\": -25.43675,\n        \"max\": 63.877674,\n        \"num_unique_values\": 982,\n        \"samples\": [\n          30.22415\n        ],\n        \"semantic_type\": \"\",\n        \"description\": \"\"\n      }\n    },\n    {\n      \"column\": \"longitude\",\n      \"properties\": {\n        \"dtype\": \"number\",\n        \"std\": 33.06226262324003,\n        \"min\": -166.55904,\n        \"max\": 115.164407,\n        \"num_unique_values\": 983,\n        \"samples\": [\n          -89.78667\n        ],\n        \"semantic_type\": \"\",\n        \"description\": \"\"\n      }\n    },\n    {\n      \"column\": \"name\",\n      \"properties\": {\n        \"dtype\": \"category\",\n        \"num_unique_values\": 879,\n        \"samples\": [\n          \"Extended Stay America - Rockford - I-90\"\n        ],\n        \"semantic_type\": \"\",\n        \"description\": \"\"\n      }\n    },\n    {\n      \"column\": \"postalCode\",\n      \"properties\": {\n        \"dtype\": \"category\",\n        \"num_unique_values\": 911,\n        \"samples\": [\n          \"53128\"\n        ],\n        \"semantic_type\": \"\",\n        \"description\": \"\"\n      }\n    },\n    {\n      \"column\": \"province\",\n      \"properties\": {\n        \"dtype\": \"category\",\n        \"num_unique_values\": 287,\n        \"samples\": [\n          \"OR\"\n        ],\n        \"semantic_type\": \"\",\n        \"description\": \"\"\n      }\n    },\n    {\n      \"column\": \"reviews.date\",\n      \"properties\": {\n        \"dtype\": \"object\",\n        \"num_unique_values\": 3009,\n        \"samples\": [\n          \"2011-11-29T00:00:00Z\"\n        ],\n        \"semantic_type\": \"\",\n        \"description\": \"\"\n      }\n    },\n    {\n      \"column\": \"reviews.dateAdded\",\n      \"properties\": {\n        \"dtype\": \"object\",\n        \"num_unique_values\": 1029,\n        \"samples\": [\n          \"2016-11-19T05:06:02Z\"\n        ],\n        \"semantic_type\": \"\",\n        \"description\": \"\"\n      }\n    },\n    {\n      \"column\": \"reviews.doRecommend\",\n      \"properties\": {\n        \"dtype\": \"number\",\n        \"std\": null,\n        \"min\": null,\n        \"max\": null,\n        \"num_unique_values\": 0,\n        \"samples\": [],\n        \"semantic_type\": \"\",\n        \"description\": \"\"\n      }\n    },\n    {\n      \"column\": \"reviews.id\",\n      \"properties\": {\n        \"dtype\": \"number\",\n        \"std\": null,\n        \"min\": null,\n        \"max\": null,\n        \"num_unique_values\": 0,\n        \"samples\": [],\n        \"semantic_type\": \"\",\n        \"description\": \"\"\n      }\n    },\n    {\n      \"column\": \"reviews.rating\",\n      \"properties\": {\n        \"dtype\": \"number\",\n        \"std\": 1.416195150678509,\n        \"min\": 0.0,\n        \"max\": 10.0,\n        \"num_unique_values\": 43,\n        \"samples\": [],\n        \"semantic_type\": \"\",\n        \"description\": \"\"\n      }\n    },\n    {\n      \"column\": \"reviews.text\",\n      \"properties\": {\n        \"dtype\": \"string\",\n        \"num_unique_values\": 34396,\n        \"samples\": [],\n        \"semantic_type\": \"\",\n        \"description\": \"\"\n      }\n    },\n    {\n      \"column\": \"reviews.title\",\n      \"properties\": {\n        \"dtype\": \"string\",\n        \"num_unique_values\": 21960,\n        \"samples\": [],\n        \"semantic_type\": \"\",\n        \"description\": \"\"\n      }\n    },\n    {\n      \"column\": \"reviews.userCity\",\n      \"properties\": {\n        \"dtype\": \"category\",\n        \"num_unique_values\": 2897,\n        \"samples\": [],\n        \"semantic_type\": \"\",\n        \"description\": \"\"\n      }\n    },\n    {\n      \"column\": \"reviews.username\",\n      \"properties\": {\n        \"dtype\": \"category\",\n        \"num_unique_values\": 15492,\n        \"samples\": [],\n        \"semantic_type\": \"\",\n        \"description\": \"\"\n      }\n    },\n    {\n      \"column\": \"reviews.userProvince\",\n      \"properties\": {\n        \"dtype\": \"category\",\n        \"num_unique_values\": 648,\n        \"samples\": [],\n        \"semantic_type\": \"\",\n        \"description\": \"\"\n      }\n    }\n  ]\n}"
            }
          },
          "metadata": {},
          "execution_count": 4
        }
      ]
    },
    {
      "cell_type": "code",
      "source": [
        "df1.isna().sum()"
      ],
      "metadata": {
        "colab": {
          "base_uri": "https://localhost:8080/"
        },
        "id": "HV21ocLLn5a4",
        "outputId": "74455ed6-1df1-4a92-d581-d8bf46a7aebb"
      },
      "execution_count": 5,
      "outputs": [
        {
          "output_type": "execute_result",
          "data": {
            "text/plain": [
              "address                     0\n",
              "categories                  0\n",
              "city                        0\n",
              "country                     0\n",
              "latitude                   86\n",
              "longitude                  86\n",
              "name                        0\n",
              "postalCode                 55\n",
              "province                    0\n",
              "reviews.date              259\n",
              "reviews.dateAdded           0\n",
              "reviews.doRecommend     35912\n",
              "reviews.id              35912\n",
              "reviews.rating            862\n",
              "reviews.text               24\n",
              "reviews.title            1626\n",
              "reviews.userCity        19649\n",
              "reviews.username           43\n",
              "reviews.userProvince    18394\n",
              "dtype: int64"
            ]
          },
          "metadata": {},
          "execution_count": 5
        }
      ]
    },
    {
      "cell_type": "code",
      "source": [
        "df1_filtered = df1[['name', 'reviews.username', 'reviews.rating', 'reviews.text', 'reviews.userCity']]"
      ],
      "metadata": {
        "id": "DBESnOHDs1yc"
      },
      "execution_count": 6,
      "outputs": []
    },
    {
      "cell_type": "code",
      "source": [
        "df219.head()"
      ],
      "metadata": {
        "colab": {
          "base_uri": "https://localhost:8080/",
          "height": 585
        },
        "id": "1OmB4x8wpRNB",
        "outputId": "d0c9fc45-92ea-47c0-f966-a5ea1b364a48"
      },
      "execution_count": 7,
      "outputs": [
        {
          "output_type": "execute_result",
          "data": {
            "text/plain": [
              "                     id             dateAdded           dateUpdated  \\\n",
              "0  AWE2FvX5RxPSIh2RscTK  2018-01-18T18:43:12Z  2019-05-20T23:55:47Z   \n",
              "1  AVwcj_OhkufWRAb5wi9T  2016-11-06T20:21:05Z  2019-05-20T23:31:56Z   \n",
              "2  AVwcj_OhkufWRAb5wi9T  2016-11-06T20:21:05Z  2019-05-20T23:31:56Z   \n",
              "3  AVwcj_OhkufWRAb5wi9T  2016-11-06T20:21:05Z  2019-05-20T23:31:56Z   \n",
              "4  AVwcj_OhkufWRAb5wi9T  2016-11-06T20:21:05Z  2019-05-20T23:31:56Z   \n",
              "\n",
              "                          address  \\\n",
              "0                 5620 Calle Real   \n",
              "1  5th And San Carlos PO Box 3574   \n",
              "2  5th And San Carlos PO Box 3574   \n",
              "3  5th And San Carlos PO Box 3574   \n",
              "4  5th And San Carlos PO Box 3574   \n",
              "\n",
              "                                          categories  \\\n",
              "0  Hotels,Hotels and motels,Hotel and motel mgmt....   \n",
              "1                               Hotels,Lodging,Hotel   \n",
              "2                               Hotels,Lodging,Hotel   \n",
              "3                               Hotels,Lodging,Hotel   \n",
              "4                               Hotels,Lodging,Hotel   \n",
              "\n",
              "               primaryCategories               city country  \\\n",
              "0  Accommodation & Food Services             Goleta      US   \n",
              "1  Accommodation & Food Services  Carmel by the Sea      US   \n",
              "2  Accommodation & Food Services  Carmel by the Sea      US   \n",
              "3  Accommodation & Food Services  Carmel by the Sea      US   \n",
              "4  Accommodation & Food Services  Carmel by the Sea      US   \n",
              "\n",
              "                                                keys  latitude  ...  \\\n",
              "0             us/ca/goleta/5620callereal/-1127060008  34.44178  ...   \n",
              "1  us/ca/carmelbythesea/5thandsancarlospobox3574/...  36.55722  ...   \n",
              "2  us/ca/carmelbythesea/5thandsancarlospobox3574/...  36.55722  ...   \n",
              "3  us/ca/carmelbythesea/5thandsancarlospobox3574/...  36.55722  ...   \n",
              "4  us/ca/carmelbythesea/5thandsancarlospobox3574/...  36.55722  ...   \n",
              "\n",
              "                            reviews.dateSeen reviews.rating  \\\n",
              "0                       2018-01-03T00:00:00Z              3   \n",
              "1                       2016-10-09T00:00:00Z              4   \n",
              "2                       2016-10-09T00:00:00Z              3   \n",
              "3                       2016-10-31T00:00:00Z              5   \n",
              "4  2016-10-09T00:00:00Z,2016-03-27T00:00:00Z              2   \n",
              "\n",
              "                                  reviews.sourceURLs  \\\n",
              "0  https://www.tripadvisor.com/Hotel_Review-g3243...   \n",
              "1  https://www.tripadvisor.com/Hotel_Review-g3217...   \n",
              "2  https://www.tripadvisor.com/Hotel_Review-g3217...   \n",
              "3  https://www.tripadvisor.com/Hotel_Review-g3217...   \n",
              "4  https://www.tripadvisor.com/Hotel_Review-g3217...   \n",
              "\n",
              "                                        reviews.text  \\\n",
              "0  This hotel was nice and quiet. Did not know, t...   \n",
              "1  We stayed in the king suite with the separatio...   \n",
              "2  Parking was horrible, somebody ran into my ren...   \n",
              "3  Not cheap but excellent location. Price is som...   \n",
              "4  If you get the room that they advertised on th...   \n",
              "\n",
              "                                       reviews.title  reviews.userCity  \\\n",
              "0                            Best Western Plus Hotel          San Jose   \n",
              "1  Clean rooms at solid rates in the heart of Carmel     San Francisco   \n",
              "2                                           Business   Prescott Valley   \n",
              "3                                          Very good          Guaynabo   \n",
              "4                       Low chance to come back here              Reno   \n",
              "\n",
              "  reviews.userProvince  reviews.username  \\\n",
              "0         UnitedStates      tatsurok2018   \n",
              "1                   CA         STEPHEN N   \n",
              "2                   AZ         15Deborah   \n",
              "3                   PR        Wilfredo M   \n",
              "4                   NV             Luc D   \n",
              "\n",
              "                                          sourceURLs  \\\n",
              "0  https://www.tripadvisor.com/Hotel_Review-g3243...   \n",
              "1  http://www.tripadvisor.com/Hotel_Review-g32172...   \n",
              "2  http://www.tripadvisor.com/Hotel_Review-g32172...   \n",
              "3  http://www.tripadvisor.com/Hotel_Review-g32172...   \n",
              "4  http://www.tripadvisor.com/Hotel_Review-g32172...   \n",
              "\n",
              "                                            websites  \n",
              "0  https://www.bestwestern.com/en_US/book/hotel-r...  \n",
              "1                         http://www.bestwestern.com  \n",
              "2                         http://www.bestwestern.com  \n",
              "3                         http://www.bestwestern.com  \n",
              "4                         http://www.bestwestern.com  \n",
              "\n",
              "[5 rows x 26 columns]"
            ],
            "text/html": [
              "\n",
              "  <div id=\"df-b3111191-1693-4723-be92-7cea2a5cfeff\" class=\"colab-df-container\">\n",
              "    <div>\n",
              "<style scoped>\n",
              "    .dataframe tbody tr th:only-of-type {\n",
              "        vertical-align: middle;\n",
              "    }\n",
              "\n",
              "    .dataframe tbody tr th {\n",
              "        vertical-align: top;\n",
              "    }\n",
              "\n",
              "    .dataframe thead th {\n",
              "        text-align: right;\n",
              "    }\n",
              "</style>\n",
              "<table border=\"1\" class=\"dataframe\">\n",
              "  <thead>\n",
              "    <tr style=\"text-align: right;\">\n",
              "      <th></th>\n",
              "      <th>id</th>\n",
              "      <th>dateAdded</th>\n",
              "      <th>dateUpdated</th>\n",
              "      <th>address</th>\n",
              "      <th>categories</th>\n",
              "      <th>primaryCategories</th>\n",
              "      <th>city</th>\n",
              "      <th>country</th>\n",
              "      <th>keys</th>\n",
              "      <th>latitude</th>\n",
              "      <th>...</th>\n",
              "      <th>reviews.dateSeen</th>\n",
              "      <th>reviews.rating</th>\n",
              "      <th>reviews.sourceURLs</th>\n",
              "      <th>reviews.text</th>\n",
              "      <th>reviews.title</th>\n",
              "      <th>reviews.userCity</th>\n",
              "      <th>reviews.userProvince</th>\n",
              "      <th>reviews.username</th>\n",
              "      <th>sourceURLs</th>\n",
              "      <th>websites</th>\n",
              "    </tr>\n",
              "  </thead>\n",
              "  <tbody>\n",
              "    <tr>\n",
              "      <th>0</th>\n",
              "      <td>AWE2FvX5RxPSIh2RscTK</td>\n",
              "      <td>2018-01-18T18:43:12Z</td>\n",
              "      <td>2019-05-20T23:55:47Z</td>\n",
              "      <td>5620 Calle Real</td>\n",
              "      <td>Hotels,Hotels and motels,Hotel and motel mgmt....</td>\n",
              "      <td>Accommodation &amp; Food Services</td>\n",
              "      <td>Goleta</td>\n",
              "      <td>US</td>\n",
              "      <td>us/ca/goleta/5620callereal/-1127060008</td>\n",
              "      <td>34.44178</td>\n",
              "      <td>...</td>\n",
              "      <td>2018-01-03T00:00:00Z</td>\n",
              "      <td>3</td>\n",
              "      <td>https://www.tripadvisor.com/Hotel_Review-g3243...</td>\n",
              "      <td>This hotel was nice and quiet. Did not know, t...</td>\n",
              "      <td>Best Western Plus Hotel</td>\n",
              "      <td>San Jose</td>\n",
              "      <td>UnitedStates</td>\n",
              "      <td>tatsurok2018</td>\n",
              "      <td>https://www.tripadvisor.com/Hotel_Review-g3243...</td>\n",
              "      <td>https://www.bestwestern.com/en_US/book/hotel-r...</td>\n",
              "    </tr>\n",
              "    <tr>\n",
              "      <th>1</th>\n",
              "      <td>AVwcj_OhkufWRAb5wi9T</td>\n",
              "      <td>2016-11-06T20:21:05Z</td>\n",
              "      <td>2019-05-20T23:31:56Z</td>\n",
              "      <td>5th And San Carlos PO Box 3574</td>\n",
              "      <td>Hotels,Lodging,Hotel</td>\n",
              "      <td>Accommodation &amp; Food Services</td>\n",
              "      <td>Carmel by the Sea</td>\n",
              "      <td>US</td>\n",
              "      <td>us/ca/carmelbythesea/5thandsancarlospobox3574/...</td>\n",
              "      <td>36.55722</td>\n",
              "      <td>...</td>\n",
              "      <td>2016-10-09T00:00:00Z</td>\n",
              "      <td>4</td>\n",
              "      <td>https://www.tripadvisor.com/Hotel_Review-g3217...</td>\n",
              "      <td>We stayed in the king suite with the separatio...</td>\n",
              "      <td>Clean rooms at solid rates in the heart of Carmel</td>\n",
              "      <td>San Francisco</td>\n",
              "      <td>CA</td>\n",
              "      <td>STEPHEN N</td>\n",
              "      <td>http://www.tripadvisor.com/Hotel_Review-g32172...</td>\n",
              "      <td>http://www.bestwestern.com</td>\n",
              "    </tr>\n",
              "    <tr>\n",
              "      <th>2</th>\n",
              "      <td>AVwcj_OhkufWRAb5wi9T</td>\n",
              "      <td>2016-11-06T20:21:05Z</td>\n",
              "      <td>2019-05-20T23:31:56Z</td>\n",
              "      <td>5th And San Carlos PO Box 3574</td>\n",
              "      <td>Hotels,Lodging,Hotel</td>\n",
              "      <td>Accommodation &amp; Food Services</td>\n",
              "      <td>Carmel by the Sea</td>\n",
              "      <td>US</td>\n",
              "      <td>us/ca/carmelbythesea/5thandsancarlospobox3574/...</td>\n",
              "      <td>36.55722</td>\n",
              "      <td>...</td>\n",
              "      <td>2016-10-09T00:00:00Z</td>\n",
              "      <td>3</td>\n",
              "      <td>https://www.tripadvisor.com/Hotel_Review-g3217...</td>\n",
              "      <td>Parking was horrible, somebody ran into my ren...</td>\n",
              "      <td>Business</td>\n",
              "      <td>Prescott Valley</td>\n",
              "      <td>AZ</td>\n",
              "      <td>15Deborah</td>\n",
              "      <td>http://www.tripadvisor.com/Hotel_Review-g32172...</td>\n",
              "      <td>http://www.bestwestern.com</td>\n",
              "    </tr>\n",
              "    <tr>\n",
              "      <th>3</th>\n",
              "      <td>AVwcj_OhkufWRAb5wi9T</td>\n",
              "      <td>2016-11-06T20:21:05Z</td>\n",
              "      <td>2019-05-20T23:31:56Z</td>\n",
              "      <td>5th And San Carlos PO Box 3574</td>\n",
              "      <td>Hotels,Lodging,Hotel</td>\n",
              "      <td>Accommodation &amp; Food Services</td>\n",
              "      <td>Carmel by the Sea</td>\n",
              "      <td>US</td>\n",
              "      <td>us/ca/carmelbythesea/5thandsancarlospobox3574/...</td>\n",
              "      <td>36.55722</td>\n",
              "      <td>...</td>\n",
              "      <td>2016-10-31T00:00:00Z</td>\n",
              "      <td>5</td>\n",
              "      <td>https://www.tripadvisor.com/Hotel_Review-g3217...</td>\n",
              "      <td>Not cheap but excellent location. Price is som...</td>\n",
              "      <td>Very good</td>\n",
              "      <td>Guaynabo</td>\n",
              "      <td>PR</td>\n",
              "      <td>Wilfredo M</td>\n",
              "      <td>http://www.tripadvisor.com/Hotel_Review-g32172...</td>\n",
              "      <td>http://www.bestwestern.com</td>\n",
              "    </tr>\n",
              "    <tr>\n",
              "      <th>4</th>\n",
              "      <td>AVwcj_OhkufWRAb5wi9T</td>\n",
              "      <td>2016-11-06T20:21:05Z</td>\n",
              "      <td>2019-05-20T23:31:56Z</td>\n",
              "      <td>5th And San Carlos PO Box 3574</td>\n",
              "      <td>Hotels,Lodging,Hotel</td>\n",
              "      <td>Accommodation &amp; Food Services</td>\n",
              "      <td>Carmel by the Sea</td>\n",
              "      <td>US</td>\n",
              "      <td>us/ca/carmelbythesea/5thandsancarlospobox3574/...</td>\n",
              "      <td>36.55722</td>\n",
              "      <td>...</td>\n",
              "      <td>2016-10-09T00:00:00Z,2016-03-27T00:00:00Z</td>\n",
              "      <td>2</td>\n",
              "      <td>https://www.tripadvisor.com/Hotel_Review-g3217...</td>\n",
              "      <td>If you get the room that they advertised on th...</td>\n",
              "      <td>Low chance to come back here</td>\n",
              "      <td>Reno</td>\n",
              "      <td>NV</td>\n",
              "      <td>Luc D</td>\n",
              "      <td>http://www.tripadvisor.com/Hotel_Review-g32172...</td>\n",
              "      <td>http://www.bestwestern.com</td>\n",
              "    </tr>\n",
              "  </tbody>\n",
              "</table>\n",
              "<p>5 rows × 26 columns</p>\n",
              "</div>\n",
              "    <div class=\"colab-df-buttons\">\n",
              "\n",
              "  <div class=\"colab-df-container\">\n",
              "    <button class=\"colab-df-convert\" onclick=\"convertToInteractive('df-b3111191-1693-4723-be92-7cea2a5cfeff')\"\n",
              "            title=\"Convert this dataframe to an interactive table.\"\n",
              "            style=\"display:none;\">\n",
              "\n",
              "  <svg xmlns=\"http://www.w3.org/2000/svg\" height=\"24px\" viewBox=\"0 -960 960 960\">\n",
              "    <path d=\"M120-120v-720h720v720H120Zm60-500h600v-160H180v160Zm220 220h160v-160H400v160Zm0 220h160v-160H400v160ZM180-400h160v-160H180v160Zm440 0h160v-160H620v160ZM180-180h160v-160H180v160Zm440 0h160v-160H620v160Z\"/>\n",
              "  </svg>\n",
              "    </button>\n",
              "\n",
              "  <style>\n",
              "    .colab-df-container {\n",
              "      display:flex;\n",
              "      gap: 12px;\n",
              "    }\n",
              "\n",
              "    .colab-df-convert {\n",
              "      background-color: #E8F0FE;\n",
              "      border: none;\n",
              "      border-radius: 50%;\n",
              "      cursor: pointer;\n",
              "      display: none;\n",
              "      fill: #1967D2;\n",
              "      height: 32px;\n",
              "      padding: 0 0 0 0;\n",
              "      width: 32px;\n",
              "    }\n",
              "\n",
              "    .colab-df-convert:hover {\n",
              "      background-color: #E2EBFA;\n",
              "      box-shadow: 0px 1px 2px rgba(60, 64, 67, 0.3), 0px 1px 3px 1px rgba(60, 64, 67, 0.15);\n",
              "      fill: #174EA6;\n",
              "    }\n",
              "\n",
              "    .colab-df-buttons div {\n",
              "      margin-bottom: 4px;\n",
              "    }\n",
              "\n",
              "    [theme=dark] .colab-df-convert {\n",
              "      background-color: #3B4455;\n",
              "      fill: #D2E3FC;\n",
              "    }\n",
              "\n",
              "    [theme=dark] .colab-df-convert:hover {\n",
              "      background-color: #434B5C;\n",
              "      box-shadow: 0px 1px 3px 1px rgba(0, 0, 0, 0.15);\n",
              "      filter: drop-shadow(0px 1px 2px rgba(0, 0, 0, 0.3));\n",
              "      fill: #FFFFFF;\n",
              "    }\n",
              "  </style>\n",
              "\n",
              "    <script>\n",
              "      const buttonEl =\n",
              "        document.querySelector('#df-b3111191-1693-4723-be92-7cea2a5cfeff button.colab-df-convert');\n",
              "      buttonEl.style.display =\n",
              "        google.colab.kernel.accessAllowed ? 'block' : 'none';\n",
              "\n",
              "      async function convertToInteractive(key) {\n",
              "        const element = document.querySelector('#df-b3111191-1693-4723-be92-7cea2a5cfeff');\n",
              "        const dataTable =\n",
              "          await google.colab.kernel.invokeFunction('convertToInteractive',\n",
              "                                                    [key], {});\n",
              "        if (!dataTable) return;\n",
              "\n",
              "        const docLinkHtml = 'Like what you see? Visit the ' +\n",
              "          '<a target=\"_blank\" href=https://colab.research.google.com/notebooks/data_table.ipynb>data table notebook</a>'\n",
              "          + ' to learn more about interactive tables.';\n",
              "        element.innerHTML = '';\n",
              "        dataTable['output_type'] = 'display_data';\n",
              "        await google.colab.output.renderOutput(dataTable, element);\n",
              "        const docLink = document.createElement('div');\n",
              "        docLink.innerHTML = docLinkHtml;\n",
              "        element.appendChild(docLink);\n",
              "      }\n",
              "    </script>\n",
              "  </div>\n",
              "\n",
              "\n",
              "<div id=\"df-c2c5af6e-9856-4d13-bbfa-097b67379763\">\n",
              "  <button class=\"colab-df-quickchart\" onclick=\"quickchart('df-c2c5af6e-9856-4d13-bbfa-097b67379763')\"\n",
              "            title=\"Suggest charts\"\n",
              "            style=\"display:none;\">\n",
              "\n",
              "<svg xmlns=\"http://www.w3.org/2000/svg\" height=\"24px\"viewBox=\"0 0 24 24\"\n",
              "     width=\"24px\">\n",
              "    <g>\n",
              "        <path d=\"M19 3H5c-1.1 0-2 .9-2 2v14c0 1.1.9 2 2 2h14c1.1 0 2-.9 2-2V5c0-1.1-.9-2-2-2zM9 17H7v-7h2v7zm4 0h-2V7h2v10zm4 0h-2v-4h2v4z\"/>\n",
              "    </g>\n",
              "</svg>\n",
              "  </button>\n",
              "\n",
              "<style>\n",
              "  .colab-df-quickchart {\n",
              "      --bg-color: #E8F0FE;\n",
              "      --fill-color: #1967D2;\n",
              "      --hover-bg-color: #E2EBFA;\n",
              "      --hover-fill-color: #174EA6;\n",
              "      --disabled-fill-color: #AAA;\n",
              "      --disabled-bg-color: #DDD;\n",
              "  }\n",
              "\n",
              "  [theme=dark] .colab-df-quickchart {\n",
              "      --bg-color: #3B4455;\n",
              "      --fill-color: #D2E3FC;\n",
              "      --hover-bg-color: #434B5C;\n",
              "      --hover-fill-color: #FFFFFF;\n",
              "      --disabled-bg-color: #3B4455;\n",
              "      --disabled-fill-color: #666;\n",
              "  }\n",
              "\n",
              "  .colab-df-quickchart {\n",
              "    background-color: var(--bg-color);\n",
              "    border: none;\n",
              "    border-radius: 50%;\n",
              "    cursor: pointer;\n",
              "    display: none;\n",
              "    fill: var(--fill-color);\n",
              "    height: 32px;\n",
              "    padding: 0;\n",
              "    width: 32px;\n",
              "  }\n",
              "\n",
              "  .colab-df-quickchart:hover {\n",
              "    background-color: var(--hover-bg-color);\n",
              "    box-shadow: 0 1px 2px rgba(60, 64, 67, 0.3), 0 1px 3px 1px rgba(60, 64, 67, 0.15);\n",
              "    fill: var(--button-hover-fill-color);\n",
              "  }\n",
              "\n",
              "  .colab-df-quickchart-complete:disabled,\n",
              "  .colab-df-quickchart-complete:disabled:hover {\n",
              "    background-color: var(--disabled-bg-color);\n",
              "    fill: var(--disabled-fill-color);\n",
              "    box-shadow: none;\n",
              "  }\n",
              "\n",
              "  .colab-df-spinner {\n",
              "    border: 2px solid var(--fill-color);\n",
              "    border-color: transparent;\n",
              "    border-bottom-color: var(--fill-color);\n",
              "    animation:\n",
              "      spin 1s steps(1) infinite;\n",
              "  }\n",
              "\n",
              "  @keyframes spin {\n",
              "    0% {\n",
              "      border-color: transparent;\n",
              "      border-bottom-color: var(--fill-color);\n",
              "      border-left-color: var(--fill-color);\n",
              "    }\n",
              "    20% {\n",
              "      border-color: transparent;\n",
              "      border-left-color: var(--fill-color);\n",
              "      border-top-color: var(--fill-color);\n",
              "    }\n",
              "    30% {\n",
              "      border-color: transparent;\n",
              "      border-left-color: var(--fill-color);\n",
              "      border-top-color: var(--fill-color);\n",
              "      border-right-color: var(--fill-color);\n",
              "    }\n",
              "    40% {\n",
              "      border-color: transparent;\n",
              "      border-right-color: var(--fill-color);\n",
              "      border-top-color: var(--fill-color);\n",
              "    }\n",
              "    60% {\n",
              "      border-color: transparent;\n",
              "      border-right-color: var(--fill-color);\n",
              "    }\n",
              "    80% {\n",
              "      border-color: transparent;\n",
              "      border-right-color: var(--fill-color);\n",
              "      border-bottom-color: var(--fill-color);\n",
              "    }\n",
              "    90% {\n",
              "      border-color: transparent;\n",
              "      border-bottom-color: var(--fill-color);\n",
              "    }\n",
              "  }\n",
              "</style>\n",
              "\n",
              "  <script>\n",
              "    async function quickchart(key) {\n",
              "      const quickchartButtonEl =\n",
              "        document.querySelector('#' + key + ' button');\n",
              "      quickchartButtonEl.disabled = true;  // To prevent multiple clicks.\n",
              "      quickchartButtonEl.classList.add('colab-df-spinner');\n",
              "      try {\n",
              "        const charts = await google.colab.kernel.invokeFunction(\n",
              "            'suggestCharts', [key], {});\n",
              "      } catch (error) {\n",
              "        console.error('Error during call to suggestCharts:', error);\n",
              "      }\n",
              "      quickchartButtonEl.classList.remove('colab-df-spinner');\n",
              "      quickchartButtonEl.classList.add('colab-df-quickchart-complete');\n",
              "    }\n",
              "    (() => {\n",
              "      let quickchartButtonEl =\n",
              "        document.querySelector('#df-c2c5af6e-9856-4d13-bbfa-097b67379763 button');\n",
              "      quickchartButtonEl.style.display =\n",
              "        google.colab.kernel.accessAllowed ? 'block' : 'none';\n",
              "    })();\n",
              "  </script>\n",
              "</div>\n",
              "\n",
              "    </div>\n",
              "  </div>\n"
            ],
            "application/vnd.google.colaboratory.intrinsic+json": {
              "type": "dataframe",
              "variable_name": "df219"
            }
          },
          "metadata": {},
          "execution_count": 7
        }
      ]
    },
    {
      "cell_type": "code",
      "source": [
        "df219.isna().sum()"
      ],
      "metadata": {
        "colab": {
          "base_uri": "https://localhost:8080/"
        },
        "id": "oR0f-pi_qGht",
        "outputId": "bd3adc03-ea04-4d69-f9e5-95b9d434f0d3"
      },
      "execution_count": 8,
      "outputs": [
        {
          "output_type": "execute_result",
          "data": {
            "text/plain": [
              "id                          0\n",
              "dateAdded                   0\n",
              "dateUpdated                 0\n",
              "address                     0\n",
              "categories                  0\n",
              "primaryCategories           0\n",
              "city                        0\n",
              "country                     0\n",
              "keys                        0\n",
              "latitude                    0\n",
              "longitude                   0\n",
              "name                        0\n",
              "postalCode                  0\n",
              "province                    0\n",
              "reviews.date                0\n",
              "reviews.dateAdded       10000\n",
              "reviews.dateSeen            0\n",
              "reviews.rating              0\n",
              "reviews.sourceURLs          0\n",
              "reviews.text                0\n",
              "reviews.title               1\n",
              "reviews.userCity            0\n",
              "reviews.userProvince        2\n",
              "reviews.username            0\n",
              "sourceURLs                  0\n",
              "websites                    0\n",
              "dtype: int64"
            ]
          },
          "metadata": {},
          "execution_count": 8
        }
      ]
    },
    {
      "cell_type": "code",
      "source": [
        "df219_filtered = df219[['id', 'reviews.username', 'reviews.rating', 'reviews.text', 'city']]"
      ],
      "metadata": {
        "id": "cFVsBkcAo1mi"
      },
      "execution_count": 9,
      "outputs": []
    },
    {
      "cell_type": "code",
      "source": [
        "# since dfrev and df219reviews contain similar information, we'll use df_219 instead\n",
        "# rename columns in filtered datasets\n",
        "df1_filtered.rename(columns={'name': 'hotel_id', 'reviews.username': 'user_id', 'reviews.rating': 'rating', 'reviews.text': 'review_text', 'reviews.userCity': 'user_city'}, inplace=True)\n",
        "df219_filtered.rename(columns={'id': 'hotel_id', 'reviews.username': 'user_id', 'reviews.rating': 'rating', 'reviews.text': 'review_text', 'city': 'user_city'}, inplace=True)"
      ],
      "metadata": {
        "id": "y6SiielOqlPV",
        "colab": {
          "base_uri": "https://localhost:8080/"
        },
        "outputId": "ac848371-6b23-4eed-d2a6-283b33e5c9fd"
      },
      "execution_count": 10,
      "outputs": [
        {
          "output_type": "stream",
          "name": "stderr",
          "text": [
            "<ipython-input-10-3757abb18452>:3: SettingWithCopyWarning: \n",
            "A value is trying to be set on a copy of a slice from a DataFrame\n",
            "\n",
            "See the caveats in the documentation: https://pandas.pydata.org/pandas-docs/stable/user_guide/indexing.html#returning-a-view-versus-a-copy\n",
            "  df1_filtered.rename(columns={'name': 'hotel_id', 'reviews.username': 'user_id', 'reviews.rating': 'rating', 'reviews.text': 'review_text', 'reviews.userCity': 'user_city'}, inplace=True)\n",
            "<ipython-input-10-3757abb18452>:4: SettingWithCopyWarning: \n",
            "A value is trying to be set on a copy of a slice from a DataFrame\n",
            "\n",
            "See the caveats in the documentation: https://pandas.pydata.org/pandas-docs/stable/user_guide/indexing.html#returning-a-view-versus-a-copy\n",
            "  df219_filtered.rename(columns={'id': 'hotel_id', 'reviews.username': 'user_id', 'reviews.rating': 'rating', 'reviews.text': 'review_text', 'city': 'user_city'}, inplace=True)\n"
          ]
        }
      ]
    },
    {
      "cell_type": "code",
      "source": [
        "# merge datasets\n",
        "hotel_df = pd.concat([df1_filtered, df219_filtered], ignore_index=True)"
      ],
      "metadata": {
        "id": "q5A_axQLpNlY"
      },
      "execution_count": 11,
      "outputs": []
    },
    {
      "cell_type": "code",
      "source": [
        "hotel_df.head()"
      ],
      "metadata": {
        "colab": {
          "base_uri": "https://localhost:8080/",
          "height": 206
        },
        "id": "VN3euQWVpNav",
        "outputId": "ff89c66c-8645-4694-c8f9-a2c950e01750"
      },
      "execution_count": 12,
      "outputs": [
        {
          "output_type": "execute_result",
          "data": {
            "text/plain": [
              "             hotel_id      user_id  rating  \\\n",
              "0  Hotel Russo Palace  Russ (kent)     4.0   \n",
              "1  Hotel Russo Palace   A Traveler     5.0   \n",
              "2  Hotel Russo Palace         Maud     5.0   \n",
              "3  Hotel Russo Palace        Julie     5.0   \n",
              "4  Hotel Russo Palace     sungchul     5.0   \n",
              "\n",
              "                                         review_text user_city  \n",
              "0  Pleasant 10 min walk along the sea front to th...       NaN  \n",
              "1  Really lovely hotel. Stayed on the very top fl...       NaN  \n",
              "2  Ett mycket bra hotell. Det som drog ner betyge...       NaN  \n",
              "3  We stayed here for four nights in October. The...       NaN  \n",
              "4  We stayed here for four nights in October. The...       NaN  "
            ],
            "text/html": [
              "\n",
              "  <div id=\"df-a91937b9-ae49-4fb3-b920-81d595730b90\" class=\"colab-df-container\">\n",
              "    <div>\n",
              "<style scoped>\n",
              "    .dataframe tbody tr th:only-of-type {\n",
              "        vertical-align: middle;\n",
              "    }\n",
              "\n",
              "    .dataframe tbody tr th {\n",
              "        vertical-align: top;\n",
              "    }\n",
              "\n",
              "    .dataframe thead th {\n",
              "        text-align: right;\n",
              "    }\n",
              "</style>\n",
              "<table border=\"1\" class=\"dataframe\">\n",
              "  <thead>\n",
              "    <tr style=\"text-align: right;\">\n",
              "      <th></th>\n",
              "      <th>hotel_id</th>\n",
              "      <th>user_id</th>\n",
              "      <th>rating</th>\n",
              "      <th>review_text</th>\n",
              "      <th>user_city</th>\n",
              "    </tr>\n",
              "  </thead>\n",
              "  <tbody>\n",
              "    <tr>\n",
              "      <th>0</th>\n",
              "      <td>Hotel Russo Palace</td>\n",
              "      <td>Russ (kent)</td>\n",
              "      <td>4.0</td>\n",
              "      <td>Pleasant 10 min walk along the sea front to th...</td>\n",
              "      <td>NaN</td>\n",
              "    </tr>\n",
              "    <tr>\n",
              "      <th>1</th>\n",
              "      <td>Hotel Russo Palace</td>\n",
              "      <td>A Traveler</td>\n",
              "      <td>5.0</td>\n",
              "      <td>Really lovely hotel. Stayed on the very top fl...</td>\n",
              "      <td>NaN</td>\n",
              "    </tr>\n",
              "    <tr>\n",
              "      <th>2</th>\n",
              "      <td>Hotel Russo Palace</td>\n",
              "      <td>Maud</td>\n",
              "      <td>5.0</td>\n",
              "      <td>Ett mycket bra hotell. Det som drog ner betyge...</td>\n",
              "      <td>NaN</td>\n",
              "    </tr>\n",
              "    <tr>\n",
              "      <th>3</th>\n",
              "      <td>Hotel Russo Palace</td>\n",
              "      <td>Julie</td>\n",
              "      <td>5.0</td>\n",
              "      <td>We stayed here for four nights in October. The...</td>\n",
              "      <td>NaN</td>\n",
              "    </tr>\n",
              "    <tr>\n",
              "      <th>4</th>\n",
              "      <td>Hotel Russo Palace</td>\n",
              "      <td>sungchul</td>\n",
              "      <td>5.0</td>\n",
              "      <td>We stayed here for four nights in October. The...</td>\n",
              "      <td>NaN</td>\n",
              "    </tr>\n",
              "  </tbody>\n",
              "</table>\n",
              "</div>\n",
              "    <div class=\"colab-df-buttons\">\n",
              "\n",
              "  <div class=\"colab-df-container\">\n",
              "    <button class=\"colab-df-convert\" onclick=\"convertToInteractive('df-a91937b9-ae49-4fb3-b920-81d595730b90')\"\n",
              "            title=\"Convert this dataframe to an interactive table.\"\n",
              "            style=\"display:none;\">\n",
              "\n",
              "  <svg xmlns=\"http://www.w3.org/2000/svg\" height=\"24px\" viewBox=\"0 -960 960 960\">\n",
              "    <path d=\"M120-120v-720h720v720H120Zm60-500h600v-160H180v160Zm220 220h160v-160H400v160Zm0 220h160v-160H400v160ZM180-400h160v-160H180v160Zm440 0h160v-160H620v160ZM180-180h160v-160H180v160Zm440 0h160v-160H620v160Z\"/>\n",
              "  </svg>\n",
              "    </button>\n",
              "\n",
              "  <style>\n",
              "    .colab-df-container {\n",
              "      display:flex;\n",
              "      gap: 12px;\n",
              "    }\n",
              "\n",
              "    .colab-df-convert {\n",
              "      background-color: #E8F0FE;\n",
              "      border: none;\n",
              "      border-radius: 50%;\n",
              "      cursor: pointer;\n",
              "      display: none;\n",
              "      fill: #1967D2;\n",
              "      height: 32px;\n",
              "      padding: 0 0 0 0;\n",
              "      width: 32px;\n",
              "    }\n",
              "\n",
              "    .colab-df-convert:hover {\n",
              "      background-color: #E2EBFA;\n",
              "      box-shadow: 0px 1px 2px rgba(60, 64, 67, 0.3), 0px 1px 3px 1px rgba(60, 64, 67, 0.15);\n",
              "      fill: #174EA6;\n",
              "    }\n",
              "\n",
              "    .colab-df-buttons div {\n",
              "      margin-bottom: 4px;\n",
              "    }\n",
              "\n",
              "    [theme=dark] .colab-df-convert {\n",
              "      background-color: #3B4455;\n",
              "      fill: #D2E3FC;\n",
              "    }\n",
              "\n",
              "    [theme=dark] .colab-df-convert:hover {\n",
              "      background-color: #434B5C;\n",
              "      box-shadow: 0px 1px 3px 1px rgba(0, 0, 0, 0.15);\n",
              "      filter: drop-shadow(0px 1px 2px rgba(0, 0, 0, 0.3));\n",
              "      fill: #FFFFFF;\n",
              "    }\n",
              "  </style>\n",
              "\n",
              "    <script>\n",
              "      const buttonEl =\n",
              "        document.querySelector('#df-a91937b9-ae49-4fb3-b920-81d595730b90 button.colab-df-convert');\n",
              "      buttonEl.style.display =\n",
              "        google.colab.kernel.accessAllowed ? 'block' : 'none';\n",
              "\n",
              "      async function convertToInteractive(key) {\n",
              "        const element = document.querySelector('#df-a91937b9-ae49-4fb3-b920-81d595730b90');\n",
              "        const dataTable =\n",
              "          await google.colab.kernel.invokeFunction('convertToInteractive',\n",
              "                                                    [key], {});\n",
              "        if (!dataTable) return;\n",
              "\n",
              "        const docLinkHtml = 'Like what you see? Visit the ' +\n",
              "          '<a target=\"_blank\" href=https://colab.research.google.com/notebooks/data_table.ipynb>data table notebook</a>'\n",
              "          + ' to learn more about interactive tables.';\n",
              "        element.innerHTML = '';\n",
              "        dataTable['output_type'] = 'display_data';\n",
              "        await google.colab.output.renderOutput(dataTable, element);\n",
              "        const docLink = document.createElement('div');\n",
              "        docLink.innerHTML = docLinkHtml;\n",
              "        element.appendChild(docLink);\n",
              "      }\n",
              "    </script>\n",
              "  </div>\n",
              "\n",
              "\n",
              "<div id=\"df-8cc4d5b1-7372-4e94-8f85-c75f6b0b92ad\">\n",
              "  <button class=\"colab-df-quickchart\" onclick=\"quickchart('df-8cc4d5b1-7372-4e94-8f85-c75f6b0b92ad')\"\n",
              "            title=\"Suggest charts\"\n",
              "            style=\"display:none;\">\n",
              "\n",
              "<svg xmlns=\"http://www.w3.org/2000/svg\" height=\"24px\"viewBox=\"0 0 24 24\"\n",
              "     width=\"24px\">\n",
              "    <g>\n",
              "        <path d=\"M19 3H5c-1.1 0-2 .9-2 2v14c0 1.1.9 2 2 2h14c1.1 0 2-.9 2-2V5c0-1.1-.9-2-2-2zM9 17H7v-7h2v7zm4 0h-2V7h2v10zm4 0h-2v-4h2v4z\"/>\n",
              "    </g>\n",
              "</svg>\n",
              "  </button>\n",
              "\n",
              "<style>\n",
              "  .colab-df-quickchart {\n",
              "      --bg-color: #E8F0FE;\n",
              "      --fill-color: #1967D2;\n",
              "      --hover-bg-color: #E2EBFA;\n",
              "      --hover-fill-color: #174EA6;\n",
              "      --disabled-fill-color: #AAA;\n",
              "      --disabled-bg-color: #DDD;\n",
              "  }\n",
              "\n",
              "  [theme=dark] .colab-df-quickchart {\n",
              "      --bg-color: #3B4455;\n",
              "      --fill-color: #D2E3FC;\n",
              "      --hover-bg-color: #434B5C;\n",
              "      --hover-fill-color: #FFFFFF;\n",
              "      --disabled-bg-color: #3B4455;\n",
              "      --disabled-fill-color: #666;\n",
              "  }\n",
              "\n",
              "  .colab-df-quickchart {\n",
              "    background-color: var(--bg-color);\n",
              "    border: none;\n",
              "    border-radius: 50%;\n",
              "    cursor: pointer;\n",
              "    display: none;\n",
              "    fill: var(--fill-color);\n",
              "    height: 32px;\n",
              "    padding: 0;\n",
              "    width: 32px;\n",
              "  }\n",
              "\n",
              "  .colab-df-quickchart:hover {\n",
              "    background-color: var(--hover-bg-color);\n",
              "    box-shadow: 0 1px 2px rgba(60, 64, 67, 0.3), 0 1px 3px 1px rgba(60, 64, 67, 0.15);\n",
              "    fill: var(--button-hover-fill-color);\n",
              "  }\n",
              "\n",
              "  .colab-df-quickchart-complete:disabled,\n",
              "  .colab-df-quickchart-complete:disabled:hover {\n",
              "    background-color: var(--disabled-bg-color);\n",
              "    fill: var(--disabled-fill-color);\n",
              "    box-shadow: none;\n",
              "  }\n",
              "\n",
              "  .colab-df-spinner {\n",
              "    border: 2px solid var(--fill-color);\n",
              "    border-color: transparent;\n",
              "    border-bottom-color: var(--fill-color);\n",
              "    animation:\n",
              "      spin 1s steps(1) infinite;\n",
              "  }\n",
              "\n",
              "  @keyframes spin {\n",
              "    0% {\n",
              "      border-color: transparent;\n",
              "      border-bottom-color: var(--fill-color);\n",
              "      border-left-color: var(--fill-color);\n",
              "    }\n",
              "    20% {\n",
              "      border-color: transparent;\n",
              "      border-left-color: var(--fill-color);\n",
              "      border-top-color: var(--fill-color);\n",
              "    }\n",
              "    30% {\n",
              "      border-color: transparent;\n",
              "      border-left-color: var(--fill-color);\n",
              "      border-top-color: var(--fill-color);\n",
              "      border-right-color: var(--fill-color);\n",
              "    }\n",
              "    40% {\n",
              "      border-color: transparent;\n",
              "      border-right-color: var(--fill-color);\n",
              "      border-top-color: var(--fill-color);\n",
              "    }\n",
              "    60% {\n",
              "      border-color: transparent;\n",
              "      border-right-color: var(--fill-color);\n",
              "    }\n",
              "    80% {\n",
              "      border-color: transparent;\n",
              "      border-right-color: var(--fill-color);\n",
              "      border-bottom-color: var(--fill-color);\n",
              "    }\n",
              "    90% {\n",
              "      border-color: transparent;\n",
              "      border-bottom-color: var(--fill-color);\n",
              "    }\n",
              "  }\n",
              "</style>\n",
              "\n",
              "  <script>\n",
              "    async function quickchart(key) {\n",
              "      const quickchartButtonEl =\n",
              "        document.querySelector('#' + key + ' button');\n",
              "      quickchartButtonEl.disabled = true;  // To prevent multiple clicks.\n",
              "      quickchartButtonEl.classList.add('colab-df-spinner');\n",
              "      try {\n",
              "        const charts = await google.colab.kernel.invokeFunction(\n",
              "            'suggestCharts', [key], {});\n",
              "      } catch (error) {\n",
              "        console.error('Error during call to suggestCharts:', error);\n",
              "      }\n",
              "      quickchartButtonEl.classList.remove('colab-df-spinner');\n",
              "      quickchartButtonEl.classList.add('colab-df-quickchart-complete');\n",
              "    }\n",
              "    (() => {\n",
              "      let quickchartButtonEl =\n",
              "        document.querySelector('#df-8cc4d5b1-7372-4e94-8f85-c75f6b0b92ad button');\n",
              "      quickchartButtonEl.style.display =\n",
              "        google.colab.kernel.accessAllowed ? 'block' : 'none';\n",
              "    })();\n",
              "  </script>\n",
              "</div>\n",
              "\n",
              "    </div>\n",
              "  </div>\n"
            ],
            "application/vnd.google.colaboratory.intrinsic+json": {
              "type": "dataframe",
              "variable_name": "hotel_df",
              "summary": "{\n  \"name\": \"hotel_df\",\n  \"rows\": 45912,\n  \"fields\": [\n    {\n      \"column\": \"hotel_id\",\n      \"properties\": {\n        \"dtype\": \"category\",\n        \"num_unique_values\": 2312,\n        \"samples\": [\n          \"AVweWDNuIN2L1WUf4Gct\",\n          \"Ambiance\",\n          \"AV-AN728a4HuVbedGQnJ\"\n        ],\n        \"semantic_type\": \"\",\n        \"description\": \"\"\n      }\n    },\n    {\n      \"column\": \"user_id\",\n      \"properties\": {\n        \"dtype\": \"string\",\n        \"num_unique_values\": 23930,\n        \"samples\": [\n          \"Elena E\",\n          \"June\",\n          \"KBasu\"\n        ],\n        \"semantic_type\": \"\",\n        \"description\": \"\"\n      }\n    },\n    {\n      \"column\": \"rating\",\n      \"properties\": {\n        \"dtype\": \"number\",\n        \"std\": 1.3680288189358065,\n        \"min\": 0.0,\n        \"max\": 10.0,\n        \"num_unique_values\": 43,\n        \"samples\": [\n          5.4,\n          6.7,\n          6.3\n        ],\n        \"semantic_type\": \"\",\n        \"description\": \"\"\n      }\n    },\n    {\n      \"column\": \"review_text\",\n      \"properties\": {\n        \"dtype\": \"string\",\n        \"num_unique_values\": 44141,\n        \"samples\": [\n          \"Right near the heart of Napa. Clean and well kept rooms, adequate breakfast and really great staff. Could not have asked for more for the price. Large room and very quiet.\",\n          \"Great place for the money. huge an newly refinished pool was awesome!\",\n          \"Overall the hotel was fine. However the bed was hard as a rock. It was beyond firm, downright uncomfortable.\"\n        ],\n        \"semantic_type\": \"\",\n        \"description\": \"\"\n      }\n    },\n    {\n      \"column\": \"user_city\",\n      \"properties\": {\n        \"dtype\": \"category\",\n        \"num_unique_values\": 3285,\n        \"samples\": [\n          \"Stilwell\",\n          \"ELBRIDGE\",\n          \"Beacon\"\n        ],\n        \"semantic_type\": \"\",\n        \"description\": \"\"\n      }\n    }\n  ]\n}"
            }
          },
          "metadata": {},
          "execution_count": 12
        }
      ]
    },
    {
      "cell_type": "code",
      "source": [
        "hotel_df.isna().sum()"
      ],
      "metadata": {
        "colab": {
          "base_uri": "https://localhost:8080/"
        },
        "id": "k45IL3TvqUBy",
        "outputId": "6e15a6f8-81c1-433d-f8cc-486607476d51"
      },
      "execution_count": 13,
      "outputs": [
        {
          "output_type": "execute_result",
          "data": {
            "text/plain": [
              "hotel_id           0\n",
              "user_id           43\n",
              "rating           862\n",
              "review_text       24\n",
              "user_city      19649\n",
              "dtype: int64"
            ]
          },
          "metadata": {},
          "execution_count": 13
        }
      ]
    },
    {
      "cell_type": "code",
      "source": [
        "hotel_df.shape"
      ],
      "metadata": {
        "colab": {
          "base_uri": "https://localhost:8080/"
        },
        "id": "zYDkZWvfql2J",
        "outputId": "8e26ad13-97e7-4000-c155-ec8e14d5922a"
      },
      "execution_count": 14,
      "outputs": [
        {
          "output_type": "execute_result",
          "data": {
            "text/plain": [
              "(45912, 5)"
            ]
          },
          "metadata": {},
          "execution_count": 14
        }
      ]
    },
    {
      "cell_type": "code",
      "source": [
        "# do a mean imputation for the ratings column and drop the null values from the other columns\n",
        "mean_rating = hotel_df['rating'].mean()\n",
        "\n",
        "# Impute missing values with the mean rating\n",
        "hotel_df['rating'].fillna(mean_rating, inplace=True)"
      ],
      "metadata": {
        "id": "WaA_tW3BqYcw"
      },
      "execution_count": 15,
      "outputs": []
    },
    {
      "cell_type": "code",
      "source": [
        "hotel_df.isna().sum()"
      ],
      "metadata": {
        "colab": {
          "base_uri": "https://localhost:8080/"
        },
        "id": "j7b_r7XZrRys",
        "outputId": "eefc40a6-5983-407a-c3d0-1f13d0219f85"
      },
      "execution_count": 16,
      "outputs": [
        {
          "output_type": "execute_result",
          "data": {
            "text/plain": [
              "hotel_id           0\n",
              "user_id           43\n",
              "rating             0\n",
              "review_text       24\n",
              "user_city      19649\n",
              "dtype: int64"
            ]
          },
          "metadata": {},
          "execution_count": 16
        }
      ]
    },
    {
      "cell_type": "code",
      "source": [
        "# drop isnull from columns\n",
        "hotel_df.dropna(subset=['user_id', 'review_text', 'user_city'], inplace=True)"
      ],
      "metadata": {
        "id": "DsrdCAexrVVJ"
      },
      "execution_count": 17,
      "outputs": []
    },
    {
      "cell_type": "code",
      "source": [
        "hotel_df.isna().sum()"
      ],
      "metadata": {
        "colab": {
          "base_uri": "https://localhost:8080/"
        },
        "id": "6Q7K23pXr_r8",
        "outputId": "3a75d841-323d-4161-8a24-dbabd14f109c"
      },
      "execution_count": 18,
      "outputs": [
        {
          "output_type": "execute_result",
          "data": {
            "text/plain": [
              "hotel_id       0\n",
              "user_id        0\n",
              "rating         0\n",
              "review_text    0\n",
              "user_city      0\n",
              "dtype: int64"
            ]
          },
          "metadata": {},
          "execution_count": 18
        }
      ]
    },
    {
      "cell_type": "code",
      "source": [
        "hotel_df.shape"
      ],
      "metadata": {
        "colab": {
          "base_uri": "https://localhost:8080/"
        },
        "id": "8rLreCD-sDNE",
        "outputId": "1573e852-2f30-40a4-9481-1458c61e0543"
      },
      "execution_count": 19,
      "outputs": [
        {
          "output_type": "execute_result",
          "data": {
            "text/plain": [
              "(26262, 5)"
            ]
          },
          "metadata": {},
          "execution_count": 19
        }
      ]
    },
    {
      "cell_type": "code",
      "source": [
        "hotel_df.columns"
      ],
      "metadata": {
        "colab": {
          "base_uri": "https://localhost:8080/"
        },
        "id": "GWh1uFROS9Un",
        "outputId": "cad08f25-ce89-4fa0-ad1a-388a0f6d699e"
      },
      "execution_count": 20,
      "outputs": [
        {
          "output_type": "execute_result",
          "data": {
            "text/plain": [
              "Index(['hotel_id', 'user_id', 'rating', 'review_text', 'user_city'], dtype='object')"
            ]
          },
          "metadata": {},
          "execution_count": 20
        }
      ]
    },
    {
      "cell_type": "code",
      "source": [
        "hotel_df.user_city.unique()"
      ],
      "metadata": {
        "colab": {
          "base_uri": "https://localhost:8080/"
        },
        "id": "mYwT6aVpprCt",
        "outputId": "1769aefe-0636-4d53-baea-44df92e88d3a"
      },
      "execution_count": 21,
      "outputs": [
        {
          "output_type": "execute_result",
          "data": {
            "text/plain": [
              "array(['Albany', 'North Houston', 'Los Angeles', ..., 'Shandaken',\n",
              "       'Hunter', 'Lindale'], dtype=object)"
            ]
          },
          "metadata": {},
          "execution_count": 21
        }
      ]
    },
    {
      "cell_type": "code",
      "source": [
        "hotel_df.user_id.unique()"
      ],
      "metadata": {
        "colab": {
          "base_uri": "https://localhost:8080/"
        },
        "id": "egZWHcolAYgy",
        "outputId": "8af264d2-c985-4c91-c9e5-eeb8d538b2b9"
      },
      "execution_count": 22,
      "outputs": [
        {
          "output_type": "execute_result",
          "data": {
            "text/plain": [
              "array(['Flo H', 'Julie R', 'martin n', ..., 'K261ANbrendah',\n",
              "       'soccerrocks2016', 'tootallsmith'], dtype=object)"
            ]
          },
          "metadata": {},
          "execution_count": 22
        }
      ]
    },
    {
      "cell_type": "markdown",
      "source": [
        "#**Model Building: Hybrid Filtering**"
      ],
      "metadata": {
        "id": "tSkIShe7sV0w"
      }
    },
    {
      "cell_type": "code",
      "source": [
        "!pip install scikit-surprise -q\n",
        "!pip install lightfm -q"
      ],
      "metadata": {
        "id": "1BpDJuQa6SF3"
      },
      "execution_count": 23,
      "outputs": []
    },
    {
      "cell_type": "code",
      "source": [
        "import scipy.sparse as sp\n",
        "from scipy.sparse import csr_matrix\n",
        "from surprise import Dataset, Reader, SVD\n",
        "from surprise.model_selection import train_test_split\n",
        "from surprise.accuracy import rmse\n",
        "from sklearn.preprocessing import LabelEncoder\n",
        "from lightfm import LightFM\n",
        "from lightfm.data import Dataset as LightFMDataset\n",
        "from sklearn.feature_extraction.text import TfidfVectorizer"
      ],
      "metadata": {
        "id": "MsuSIri_sE24"
      },
      "execution_count": 24,
      "outputs": []
    },
    {
      "cell_type": "code",
      "source": [
        "# encode user_city and vectorize reviews_text\n",
        "label_encoder = LabelEncoder()\n",
        "# encode user_city\n",
        "hotel_df['user_city_encoded'] = label_encoder.fit_transform(hotel_df['user_city'])"
      ],
      "metadata": {
        "id": "7EfrGpfT6HR7"
      },
      "execution_count": 25,
      "outputs": []
    },
    {
      "cell_type": "code",
      "source": [
        "# process revies_text using TF-IDF\n",
        "tfidf = TfidfVectorizer(max_features=500)\n",
        "# create matrix for text vectorizer\n",
        "text_matrix = tfidf.fit_transform(hotel_df['review_text'])"
      ],
      "metadata": {
        "id": "3zSmLShWJ3gl"
      },
      "execution_count": 26,
      "outputs": []
    },
    {
      "cell_type": "code",
      "source": [
        "# check shape of vectorizer\n",
        "text_matrix.shape"
      ],
      "metadata": {
        "colab": {
          "base_uri": "https://localhost:8080/"
        },
        "id": "RuRS0EffKBkY",
        "outputId": "2eb542c0-3c32-4740-8a46-5aa6225ca158"
      },
      "execution_count": 27,
      "outputs": [
        {
          "output_type": "execute_result",
          "data": {
            "text/plain": [
              "(26262, 500)"
            ]
          },
          "metadata": {},
          "execution_count": 27
        }
      ]
    },
    {
      "cell_type": "code",
      "source": [
        "# initialize LightFMdataset\n",
        "lightfm_data = LightFMDataset()"
      ],
      "metadata": {
        "id": "XGWcFz0fKHCr"
      },
      "execution_count": 28,
      "outputs": []
    },
    {
      "cell_type": "code",
      "source": [
        "# Fit LightFM Dataset with user_id, hotel_id, user and item features\n",
        "lightfm_data.fit(users=hotel_df['user_id'].unique(),\n",
        "                 items=hotel_df['hotel_id'].unique(),\n",
        "                 user_features=hotel_df['user_city_encoded'].unique(),\n",
        "                 item_features=range(text_matrix.shape[1]))"
      ],
      "metadata": {
        "id": "o4m78iKxKRo_"
      },
      "execution_count": 29,
      "outputs": []
    },
    {
      "cell_type": "code",
      "source": [
        "# Build interactions matrix\n",
        "(interactions, weights) = lightfm_data.build_interactions([(x['user_id'], x['hotel_id'], x['rating']) for idx, x in hotel_df.iterrows()])\n",
        "\n",
        "# Build user features matrix\n",
        "user_features = lightfm_data.build_user_features([(x['user_id'], [x['user_city_encoded']]) for idx, x in hotel_df.iterrows()])\n",
        "\n",
        "# Build item features matrix by combining hotel_id (hotel_name) with TF-IDF features (reviews_text)\n",
        "item_ids = hotel_df['hotel_id'].unique()\n",
        "item_features = lightfm_data.build_item_features([(hotel_id, []) for hotel_id in item_ids])\n",
        "\n",
        "# Create a mapping from hotel_id to row index in text_matrix\n",
        "hotel_id_to_index = {hotel_id: idx for idx, hotel_id in enumerate(sorted(hotel_df['hotel_id'].unique()))}\n",
        "\n",
        "# Get indices for item_ids\n",
        "indices = [hotel_id_to_index[hotel_id] for hotel_id in item_ids if hotel_id in hotel_id_to_index]\n",
        "\n",
        "# Filter text_matrix based on these indices\n",
        "filtered_text_matrix = text_matrix[indices, :]\n",
        "\n",
        "#print(f'{item_features.shape}\\n, {filtered_text_matrix.shape}')"
      ],
      "metadata": {
        "id": "-67jEu_VKjmt"
      },
      "execution_count": 30,
      "outputs": []
    },
    {
      "cell_type": "code",
      "source": [
        "# Initialize the model\n",
        "model = LightFM(loss='warp')\n",
        "\n",
        "# Fit the model\n",
        "model.fit(interactions,\n",
        "          user_features=user_features,\n",
        "          item_features=item_features,\n",
        "          epochs=100,\n",
        "          num_threads=10)"
      ],
      "metadata": {
        "colab": {
          "base_uri": "https://localhost:8080/"
        },
        "id": "1nMe6vrNK5GT",
        "outputId": "d537cb94-23a6-43e6-da19-268564690cef"
      },
      "execution_count": 31,
      "outputs": [
        {
          "output_type": "execute_result",
          "data": {
            "text/plain": [
              "<lightfm.lightfm.LightFM at 0x7922b65ff310>"
            ]
          },
          "metadata": {},
          "execution_count": 31
        }
      ]
    },
    {
      "cell_type": "code",
      "source": [
        "from lightfm.evaluation import precision_at_k, recall_at_k\n",
        "# Evaluate the model\n",
        "train_precision = precision_at_k(model, interactions, user_features=user_features, item_features=item_features, k=5).mean()\n",
        "train_recall = recall_at_k(model, interactions, user_features=user_features, item_features=item_features, k=5).mean()\n",
        "\n",
        "print(f'Train precision: {train_precision:.4f}')\n",
        "print(f'Train recall: {train_recall:.4f}')"
      ],
      "metadata": {
        "colab": {
          "base_uri": "https://localhost:8080/"
        },
        "id": "Vuf1bRzVnkwA",
        "outputId": "43891a75-91a4-4d0a-fe5a-f0be48fa678f"
      },
      "execution_count": 32,
      "outputs": [
        {
          "output_type": "stream",
          "name": "stdout",
          "text": [
            "Train precision: 0.1591\n",
            "Train recall: 0.7172\n"
          ]
        }
      ]
    },
    {
      "cell_type": "code",
      "source": [
        "def get_recommendations(model, user_id, city, user_features=None, item_features=None, num_recommendations=10):\n",
        "    \"\"\"\n",
        "    Recommends hotels for a given user based on the LightFM model and their city.\n",
        "\n",
        "    Args:\n",
        "        model: The trained LightFM model.\n",
        "        user_id: The string ID of the user for whom to generate recommendations.\n",
        "        city: The city of the user for whom to generate recommendations.\n",
        "        user_features: User features matrix (optional).\n",
        "        item_features: Item features matrix (optional).\n",
        "        num_recommendations: Number of recommendations to return (default: 10).\n",
        "\n",
        "    Returns:\n",
        "        A list of recommended hotel Names.\n",
        "    \"\"\"\n",
        "\n",
        "    # Look up user index based on user_id (assuming user_id exists in the dataset)\n",
        "    try:\n",
        "        user_idx = hotel_df[hotel_df['user_id'] == user_id].index[0]\n",
        "    except IndexError:\n",
        "      print(f\"User ID {user_id} not found in the dataset.\")\n",
        "      return\n",
        "        #raise ValueError(f\"User ID {user_id} not found in the dataset.\")\n",
        "\n",
        "    user_count = len(hotel_df[hotel_df['user_id'] == user_id])\n",
        "    #print(f'Number of users with ID \"{user_id}\": {user_count}')\n",
        "\n",
        "    # Get user features for this user if provided\n",
        "    if user_features is not None:\n",
        "        user_features_lookup = user_features[user_idx, :]\n",
        "    else:\n",
        "        user_features_lookup = None\n",
        "\n",
        "    # Filter hotels based on the user's city\n",
        "    city_hotels = hotel_df[hotel_df['user_city'] == city]\n",
        "    if city_hotels.empty:\n",
        "      print(f\"No hotels found for the city {city}.\")\n",
        "      return\n",
        "        # raise ValueError(f\"No hotels found for the city {city}.\")\n",
        "\n",
        "    item_ids = city_hotels['hotel_id'].unique()\n",
        "    num_items = len(item_ids)\n",
        "\n",
        "    # Predict scores for all items for the given user\n",
        "    user_ids = np.repeat(user_idx, num_items)\n",
        "    item_indices = np.arange(num_items)\n",
        "\n",
        "    scores = model.predict(user_ids, item_indices, user_features=user_features, item_features=item_features)\n",
        "\n",
        "    # Get the indices of the top N items sorted by predicted scores in descending order\n",
        "    top_items = np.argsort(-scores)[:num_recommendations]\n",
        "\n",
        "    # Return the list of recommended hotel IDs\n",
        "    return item_ids[top_items].tolist()\n",
        "\n",
        "\n",
        "user_id = \"martin n\"\n",
        "city = \"Albany\"\n",
        "recommendations = get_recommendations(model, user_id, city, user_features=user_features, item_features=filtered_text_matrix, num_recommendations=5)\n",
        "\n",
        "print(f'Recommended hotels for user {user_id} in {city}: {recommendations}')\n"
      ],
      "metadata": {
        "colab": {
          "base_uri": "https://localhost:8080/"
        },
        "id": "DHRQGP9I9Ify",
        "outputId": "952ef8b4-eff3-4ffb-d2a9-c68f0ccc3c29"
      },
      "execution_count": 33,
      "outputs": [
        {
          "output_type": "stream",
          "name": "stdout",
          "text": [
            "Recommended hotels for user martin n in Albany: ['Cliffrose Lodge Gardens', 'AVwdRR77_7pvs4fz4Gxu', 'Days Inn and Suites Albany', 'Candlewood Suites Lexington', '1900 House']\n"
          ]
        }
      ]
    }
  ]
}